{
 "cells": [
  {
   "cell_type": "markdown",
   "id": "ef4a3d09",
   "metadata": {},
   "source": [
    "Para conseguir lidar com a analise de sentimentos no rosto humano será necessário utilizar a biblioteca TensorFlow com o ImageDataGenerator"
   ]
  },
  {
   "cell_type": "code",
   "execution_count": 1,
   "id": "657cc55b",
   "metadata": {},
   "outputs": [],
   "source": [
    "from tensorflow.keras.preprocessing.image import ImageDataGenerator\n",
    "import matplotlib.pyplot as plt"
   ]
  },
  {
   "cell_type": "markdown",
   "id": "687fb23b",
   "metadata": {},
   "source": [
    "Para conseguirmos lidar com nosso dataset teremos que definir os caminhos dele"
   ]
  },
  {
   "cell_type": "code",
   "execution_count": 2,
   "id": "edcef314",
   "metadata": {},
   "outputs": [],
   "source": [
    "dir_train = \"../data/Fer2013Dataset/test\"\n",
    "dir_test = \"../data/Fer2013Dataset/train\""
   ]
  },
  {
   "cell_type": "markdown",
   "id": "8207ce0b",
   "metadata": {},
   "source": [
    "Agora precisamos criar varaiveis que vão conter transformções que queremos aplicar em nossos datasets."
   ]
  },
  {
   "cell_type": "code",
   "execution_count": 3,
   "id": "f42d4af8",
   "metadata": {},
   "outputs": [],
   "source": [
    "datagen_train = ImageDataGenerator(\n",
    "    width_shift_range = 0.2,\n",
    "    height_shift_range = 0.2,\n",
    "    horizontal_flip = True,\n",
    "    rescale = 1./255,\n",
    "    validation_split = 0.2\n",
    ")\n",
    "\n",
    "datagen_test = ImageDataGenerator(\n",
    "    rescale = 1./255,\n",
    "    validation_split = 0.2\n",
    ")"
   ]
  },
  {
   "cell_type": "markdown",
   "id": "735381cb",
   "metadata": {},
   "source": [
    "Agora iremos carregar o caminho das imagens para poder preparar elas para treinamento em um modelo"
   ]
  },
  {
   "cell_type": "code",
   "execution_count": 4,
   "id": "e42502da",
   "metadata": {},
   "outputs": [
    {
     "name": "stdout",
     "output_type": "stream",
     "text": [
      "Found 5746 images belonging to 7 classes.\n",
      "Found 5741 images belonging to 7 classes.\n"
     ]
    }
   ],
   "source": [
    "train_generator = datagen_train.flow_from_directory(\n",
    "    directory = dir_train,\n",
    "    target_size = (48, 48),\n",
    "    batch_size = 64,\n",
    "    color_mode = \"grayscale\",\n",
    "    class_mode = \"categorical\",\n",
    "    subset = \"training\"\n",
    ")\n",
    "\n",
    "validation_generator = datagen_train.flow_from_directory(\n",
    "    directory = dir_test,\n",
    "    target_size = (48, 48),\n",
    "    batch_size = 64,\n",
    "    color_mode = \"grayscale\",\n",
    "    class_mode = \"categorical\",\n",
    "    subset = \"validation\"\n",
    ")"
   ]
  },
  {
   "cell_type": "code",
   "execution_count": 5,
   "id": "6e8bef06",
   "metadata": {},
   "outputs": [
    {
     "data": {
      "image/png": "[encoded data removed]",
      "text/plain": [
       "<Figure size 640x480 with 1 Axes>"
      ]
     },
     "metadata": {},
     "output_type": "display_data"
    }
   ],
   "source": [
    "for images, _ in train_generator:\n",
    "    plt.imshow(images[0])\n",
    "    plt.show()\n",
    "    break"
   ]
  },
  {
   "cell_type": "markdown",
   "id": "ab8b2952",
   "metadata": {},
   "source": [
    "# Criando uma CNN para nossa aplicação\n",
    "Agora que já cuidamos do preprocessamento das nossa imagens, podemos utilizá-las para treinar um modelo CNN"
   ]
  },
  {
   "cell_type": "code",
   "execution_count": 6,
   "id": "c83a670f",
   "metadata": {},
   "outputs": [],
   "source": [
    "from keras.models import Sequential\n",
    "from keras.layers import Dense, Dropout, Flatten, Conv2D, MaxPooling2D\n",
    "model = Sequential()"
   ]
  },
  {
   "cell_type": "markdown",
   "id": "3663b89c",
   "metadata": {},
   "source": []
  },
  {
   "cell_type": "code",
   "execution_count": null,
   "id": "619b0ad5",
   "metadata": {},
   "outputs": [],
   "source": []
  }
 ],
 "metadata": {
  "kernelspec": {
   "display_name": "venv",
   "language": "python",
   "name": "python3"
  },
  "language_info": {
   "codemirror_mode": {
    "name": "ipython",
    "version": 3
   },
   "file_extension": ".py",
   "mimetype": "text/x-python",
   "name": "python",
   "nbconvert_exporter": "python",
   "pygments_lexer": "ipython3",
   "version": "3.11.9"
  }
 },
 "nbformat": 4,
 "nbformat_minor": 5
}
